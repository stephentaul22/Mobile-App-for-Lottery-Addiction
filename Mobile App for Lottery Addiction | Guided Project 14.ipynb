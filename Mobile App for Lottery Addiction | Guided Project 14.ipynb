{
 "cells": [
  {
   "cell_type": "markdown",
   "metadata": {},
   "source": [
    "# Mobile App for Lottery Addiction\n",
    "For too many lottery players, playing the lottery goes from a harmless habit to a dangerous and desperate addiction.\n",
    "\n",
    "Today, I will assume that a medical institute has asked me to build an app to treat their lottery gambling addicts by estimating their actual chance of winning the lottery using mathematics, statistics, and data analysis.\n",
    "\n",
    "Assumptions:<br/>\n",
    "A team of engineers will build the app itself.<br/>\n",
    "It is my purpose to create the logical core of the app, and to calculate the probabilities.\n",
    "\n",
    "I will be using data from the 6/49 Lottery in Canada found <a href='https://www.kaggle.com/datascienceai/lottery-dataset'>here</a>. The 6/49 Lottery is a lottery in which a player chooses 6 numbers from a list of 49 numbers (valued 1-49). A contestant wins this lottery if they match all 6 of their numbers on one ticket with the winning numbers of that week. The lottery is played every week. A contestant can purchase as many lottery tickets as they would like, and there are consolation prizes for matching 2 to 5 of the numbers."
   ]
  },
  {
   "cell_type": "markdown",
   "metadata": {},
   "source": [
    "## Defining the Combination Formula\n",
    "I will use the combination formula often throughout this statistical analysis.\n",
    "\n",
    "$\\mathbf{\\text{Combination Formula}}$<br>\n",
    "The combination formula is the formula for expressing the number of combinations that exist if $k$ objects are taken from a set of $n$ distinct objects. In the case of the 6/49 Lottery, 6 lottery numbers $k$ are taken from 49 distinct lottery numbers $n$.\n",
    "\n",
    "$$_{n}C_{k}=\\begin{pmatrix}n\\\\k\\end{pmatrix}=\\frac{n!}{k!(n-k)!}$$"
   ]
  },
  {
   "cell_type": "code",
   "execution_count": 1,
   "metadata": {},
   "outputs": [],
   "source": [
    "def factorial(n):\n",
    "    n_factorial = 1\n",
    "    for i in range(n):\n",
    "        n_factorial *= i+1\n",
    "    return n_factorial\n",
    "\n",
    "def combinations(n, k):\n",
    "    n_combines_k = factorial(n)/(factorial(k)*factorial(n-k))\n",
    "    return n_combines_k"
   ]
  },
  {
   "cell_type": "markdown",
   "metadata": {},
   "source": [
    "## Probability of Winning the Big Prize with Various Numbers\n",
    "The first section of the app deals with the probability of winning the grand prize.\n",
    "\n",
    "I will use the combination formula to create a function that prints the probability that a uer has of winning the grand prize with any given ticket. The function can be called with a list of any 6 lottery numbers."
   ]
  },
  {
   "cell_type": "code",
   "execution_count": 193,
   "metadata": {},
   "outputs": [
    {
     "name": "stdout",
     "output_type": "stream",
     "text": [
      "You have a 1 in 13,983,816 chance of winning the lottery with this ticket. \n",
      "That means you have a 0.0000072% probability of winning with these 6 numbers.\n"
     ]
    }
   ],
   "source": [
    "import numpy as np\n",
    "\n",
    "def one_ticket_probability(list_of_numbers):\n",
    "    number_of_combinations = combinations(49, 6)\n",
    "    probability = 1/number_of_combinations\n",
    "    percentage = \"{:.7f}\".format(float(probability)*100)\n",
    "    print('You have a 1 in ' + '{:,}'.format(int(number_of_combinations)) + \n",
    "          ' chance of winning the lottery with this ticket.',\n",
    "          '\\nThat means you have a ' + str(percentage) + '% probability of winning with these 6 numbers.')\n",
    "\n",
    "one_ticket_probability([1,2,3,4,5,6])"
   ]
  },
  {
   "cell_type": "markdown",
   "metadata": {},
   "source": [
    "## Reading in the Historical Data"
   ]
  },
  {
   "cell_type": "code",
   "execution_count": 3,
   "metadata": {},
   "outputs": [
    {
     "data": {
      "text/plain": [
       "(3665, 11)"
      ]
     },
     "execution_count": 3,
     "metadata": {},
     "output_type": "execute_result"
    }
   ],
   "source": [
    "import pandas as pd\n",
    "\n",
    "lottery = pd.read_csv('/Users/admin/Downloads/DATASCIENCE PROJECTS - GUIDED/Project 14 | Mobile App for Lottery Addiction/649.csv')\n",
    "\n",
    "lottery.shape"
   ]
  },
  {
   "cell_type": "code",
   "execution_count": 10,
   "metadata": {},
   "outputs": [
    {
     "data": {
      "text/html": [
       "<div>\n",
       "<style scoped>\n",
       "    .dataframe tbody tr th:only-of-type {\n",
       "        vertical-align: middle;\n",
       "    }\n",
       "\n",
       "    .dataframe tbody tr th {\n",
       "        vertical-align: top;\n",
       "    }\n",
       "\n",
       "    .dataframe thead th {\n",
       "        text-align: right;\n",
       "    }\n",
       "</style>\n",
       "<table border=\"1\" class=\"dataframe\">\n",
       "  <thead>\n",
       "    <tr style=\"text-align: right;\">\n",
       "      <th></th>\n",
       "      <th>PRODUCT</th>\n",
       "      <th>DRAW NUMBER</th>\n",
       "      <th>SEQUENCE NUMBER</th>\n",
       "      <th>DRAW DATE</th>\n",
       "      <th>NUMBER DRAWN 1</th>\n",
       "      <th>NUMBER DRAWN 2</th>\n",
       "      <th>NUMBER DRAWN 3</th>\n",
       "      <th>NUMBER DRAWN 4</th>\n",
       "      <th>NUMBER DRAWN 5</th>\n",
       "      <th>NUMBER DRAWN 6</th>\n",
       "      <th>BONUS NUMBER</th>\n",
       "    </tr>\n",
       "  </thead>\n",
       "  <tbody>\n",
       "    <tr>\n",
       "      <td>0</td>\n",
       "      <td>649</td>\n",
       "      <td>1</td>\n",
       "      <td>0</td>\n",
       "      <td>6/12/1982</td>\n",
       "      <td>3</td>\n",
       "      <td>11</td>\n",
       "      <td>12</td>\n",
       "      <td>14</td>\n",
       "      <td>41</td>\n",
       "      <td>43</td>\n",
       "      <td>13</td>\n",
       "    </tr>\n",
       "    <tr>\n",
       "      <td>1</td>\n",
       "      <td>649</td>\n",
       "      <td>2</td>\n",
       "      <td>0</td>\n",
       "      <td>6/19/1982</td>\n",
       "      <td>8</td>\n",
       "      <td>33</td>\n",
       "      <td>36</td>\n",
       "      <td>37</td>\n",
       "      <td>39</td>\n",
       "      <td>41</td>\n",
       "      <td>9</td>\n",
       "    </tr>\n",
       "    <tr>\n",
       "      <td>2</td>\n",
       "      <td>649</td>\n",
       "      <td>3</td>\n",
       "      <td>0</td>\n",
       "      <td>6/26/1982</td>\n",
       "      <td>1</td>\n",
       "      <td>6</td>\n",
       "      <td>23</td>\n",
       "      <td>24</td>\n",
       "      <td>27</td>\n",
       "      <td>39</td>\n",
       "      <td>34</td>\n",
       "    </tr>\n",
       "    <tr>\n",
       "      <td>3</td>\n",
       "      <td>649</td>\n",
       "      <td>4</td>\n",
       "      <td>0</td>\n",
       "      <td>7/3/1982</td>\n",
       "      <td>3</td>\n",
       "      <td>9</td>\n",
       "      <td>10</td>\n",
       "      <td>13</td>\n",
       "      <td>20</td>\n",
       "      <td>43</td>\n",
       "      <td>34</td>\n",
       "    </tr>\n",
       "    <tr>\n",
       "      <td>4</td>\n",
       "      <td>649</td>\n",
       "      <td>5</td>\n",
       "      <td>0</td>\n",
       "      <td>7/10/1982</td>\n",
       "      <td>5</td>\n",
       "      <td>14</td>\n",
       "      <td>21</td>\n",
       "      <td>31</td>\n",
       "      <td>34</td>\n",
       "      <td>47</td>\n",
       "      <td>45</td>\n",
       "    </tr>\n",
       "    <tr>\n",
       "      <td>...</td>\n",
       "      <td>...</td>\n",
       "      <td>...</td>\n",
       "      <td>...</td>\n",
       "      <td>...</td>\n",
       "      <td>...</td>\n",
       "      <td>...</td>\n",
       "      <td>...</td>\n",
       "      <td>...</td>\n",
       "      <td>...</td>\n",
       "      <td>...</td>\n",
       "      <td>...</td>\n",
       "    </tr>\n",
       "    <tr>\n",
       "      <td>3660</td>\n",
       "      <td>649</td>\n",
       "      <td>3587</td>\n",
       "      <td>0</td>\n",
       "      <td>6/6/2018</td>\n",
       "      <td>10</td>\n",
       "      <td>15</td>\n",
       "      <td>23</td>\n",
       "      <td>38</td>\n",
       "      <td>40</td>\n",
       "      <td>41</td>\n",
       "      <td>35</td>\n",
       "    </tr>\n",
       "    <tr>\n",
       "      <td>3661</td>\n",
       "      <td>649</td>\n",
       "      <td>3588</td>\n",
       "      <td>0</td>\n",
       "      <td>6/9/2018</td>\n",
       "      <td>19</td>\n",
       "      <td>25</td>\n",
       "      <td>31</td>\n",
       "      <td>36</td>\n",
       "      <td>46</td>\n",
       "      <td>47</td>\n",
       "      <td>26</td>\n",
       "    </tr>\n",
       "    <tr>\n",
       "      <td>3662</td>\n",
       "      <td>649</td>\n",
       "      <td>3589</td>\n",
       "      <td>0</td>\n",
       "      <td>6/13/2018</td>\n",
       "      <td>6</td>\n",
       "      <td>22</td>\n",
       "      <td>24</td>\n",
       "      <td>31</td>\n",
       "      <td>32</td>\n",
       "      <td>34</td>\n",
       "      <td>16</td>\n",
       "    </tr>\n",
       "    <tr>\n",
       "      <td>3663</td>\n",
       "      <td>649</td>\n",
       "      <td>3590</td>\n",
       "      <td>0</td>\n",
       "      <td>6/16/2018</td>\n",
       "      <td>2</td>\n",
       "      <td>15</td>\n",
       "      <td>21</td>\n",
       "      <td>31</td>\n",
       "      <td>38</td>\n",
       "      <td>49</td>\n",
       "      <td>8</td>\n",
       "    </tr>\n",
       "    <tr>\n",
       "      <td>3664</td>\n",
       "      <td>649</td>\n",
       "      <td>3591</td>\n",
       "      <td>0</td>\n",
       "      <td>6/20/2018</td>\n",
       "      <td>14</td>\n",
       "      <td>24</td>\n",
       "      <td>31</td>\n",
       "      <td>35</td>\n",
       "      <td>37</td>\n",
       "      <td>48</td>\n",
       "      <td>17</td>\n",
       "    </tr>\n",
       "  </tbody>\n",
       "</table>\n",
       "<p>3665 rows × 11 columns</p>\n",
       "</div>"
      ],
      "text/plain": [
       "      PRODUCT  DRAW NUMBER  SEQUENCE NUMBER  DRAW DATE  NUMBER DRAWN 1  \\\n",
       "0         649            1                0  6/12/1982               3   \n",
       "1         649            2                0  6/19/1982               8   \n",
       "2         649            3                0  6/26/1982               1   \n",
       "3         649            4                0   7/3/1982               3   \n",
       "4         649            5                0  7/10/1982               5   \n",
       "...       ...          ...              ...        ...             ...   \n",
       "3660      649         3587                0   6/6/2018              10   \n",
       "3661      649         3588                0   6/9/2018              19   \n",
       "3662      649         3589                0  6/13/2018               6   \n",
       "3663      649         3590                0  6/16/2018               2   \n",
       "3664      649         3591                0  6/20/2018              14   \n",
       "\n",
       "      NUMBER DRAWN 2  NUMBER DRAWN 3  NUMBER DRAWN 4  NUMBER DRAWN 5  \\\n",
       "0                 11              12              14              41   \n",
       "1                 33              36              37              39   \n",
       "2                  6              23              24              27   \n",
       "3                  9              10              13              20   \n",
       "4                 14              21              31              34   \n",
       "...              ...             ...             ...             ...   \n",
       "3660              15              23              38              40   \n",
       "3661              25              31              36              46   \n",
       "3662              22              24              31              32   \n",
       "3663              15              21              31              38   \n",
       "3664              24              31              35              37   \n",
       "\n",
       "      NUMBER DRAWN 6  BONUS NUMBER  \n",
       "0                 43            13  \n",
       "1                 41             9  \n",
       "2                 39            34  \n",
       "3                 43            34  \n",
       "4                 47            45  \n",
       "...              ...           ...  \n",
       "3660              41            35  \n",
       "3661              47            26  \n",
       "3662              34            16  \n",
       "3663              49             8  \n",
       "3664              48            17  \n",
       "\n",
       "[3665 rows x 11 columns]"
      ]
     },
     "execution_count": 10,
     "metadata": {},
     "output_type": "execute_result"
    }
   ],
   "source": [
    "lottery"
   ]
  },
  {
   "cell_type": "markdown",
   "metadata": {},
   "source": [
    "## Comparing Users' Tickets with Historical Winners\n",
    "The next section of the app deals with testing if lottery tickets have won in the past.\n",
    "\n",
    "I will create a function into which users may enter their ticket numbers, and the function will print a message telling the user whether their lottery ticket has ever won the grand prize, and what their probability of winning the grand prize is with that lottery ticket."
   ]
  },
  {
   "cell_type": "code",
   "execution_count": 6,
   "metadata": {},
   "outputs": [
    {
     "data": {
      "text/plain": [
       "{3, 11, 12, 14, 41, 43}"
      ]
     },
     "execution_count": 6,
     "metadata": {},
     "output_type": "execute_result"
    }
   ],
   "source": [
    "def extract_numbers(row):\n",
    "    winning_numbers = []\n",
    "    for draw in lottery.iloc[row]['NUMBER DRAWN 1': 'NUMBER DRAWN 6']:\n",
    "        winning_numbers.append(draw)\n",
    "    return set(winning_numbers)\n",
    "\n",
    "extract_numbers(0)"
   ]
  },
  {
   "cell_type": "code",
   "execution_count": 8,
   "metadata": {},
   "outputs": [],
   "source": [
    "winning_numbers_list = []\n",
    "\n",
    "for i in range(lottery.shape[0]):\n",
    "     winning_numbers_list.append(extract_numbers(i))\n",
    "        \n",
    "winning_numbers = pd.Series(winning_numbers_list)"
   ]
  },
  {
   "cell_type": "code",
   "execution_count": 9,
   "metadata": {},
   "outputs": [
    {
     "data": {
      "text/plain": [
       "0        {3, 41, 11, 12, 43, 14}\n",
       "1        {33, 36, 37, 39, 8, 41}\n",
       "2         {1, 6, 39, 23, 24, 27}\n",
       "3         {3, 9, 10, 43, 13, 20}\n",
       "4        {34, 5, 14, 47, 21, 31}\n",
       "                  ...           \n",
       "3660    {38, 40, 41, 10, 15, 23}\n",
       "3661    {36, 46, 47, 19, 25, 31}\n",
       "3662     {32, 34, 6, 22, 24, 31}\n",
       "3663     {2, 38, 15, 49, 21, 31}\n",
       "3664    {35, 37, 14, 48, 24, 31}\n",
       "Length: 3665, dtype: object"
      ]
     },
     "execution_count": 9,
     "metadata": {},
     "output_type": "execute_result"
    }
   ],
   "source": [
    "winning_numbers"
   ]
  },
  {
   "cell_type": "code",
   "execution_count": 194,
   "metadata": {},
   "outputs": [
    {
     "name": "stdout",
     "output_type": "stream",
     "text": [
      "That ticket has won the lottery once (1 time) in the past.\n",
      " \n",
      "You have a 1 in 13,983,816 chance of winning the lottery with this ticket. \n",
      "That means you have a 0.0000072% probability of winning with these 6 numbers.\n"
     ]
    }
   ],
   "source": [
    "def check_historical_occurence(user_numbers):\n",
    "    user_numbers = set(user_numbers)\n",
    "    winning_sets = winning_numbers[winning_numbers == user_numbers]\n",
    "    number_of_occurences = len(winning_sets)\n",
    "    if number_of_occurences == 0:\n",
    "        print('That ticket has never won the lottery.')\n",
    "    elif number_of_occurences == 1:\n",
    "        print('That ticket has won the lottery once (1 time) in the past.')\n",
    "    elif number_of_occurences == 2:\n",
    "        print('That ticket has won the lottery twice (2 times) in the past.')\n",
    "    elif number_of_occurences >= 3:\n",
    "        print('That combination has only won the lottery ' + str(number_of_occurences) + ' times in the past.')\n",
    "    print(' ')\n",
    "    one_ticket_probability(user_numbers)\n",
    "\n",
    "check_historical_occurence([35,37,14,48,24,31])"
   ]
  },
  {
   "cell_type": "markdown",
   "metadata": {},
   "source": [
    "## Estimating the Probability of a Player with Multiple Different Tickets Winning\n",
    "Many lottery players buy more than one (1) ticket, thinking that it significantly improves their chances of winning the prize. The next section of the app deals with how much a player's probability of winning actually changes with respect to how many tickets they buy.\n",
    "\n",
    "I will create a section where the user can test their probability of winning with any number of lottery tickets. The user enter how many tickets they would like to buy and will then receive a message detailing their chances of winning the grand prize with that many tickets."
   ]
  },
  {
   "cell_type": "code",
   "execution_count": 200,
   "metadata": {},
   "outputs": [
    {
     "name": "stdout",
     "output_type": "stream",
     "text": [
      "You have a 1 in 13,983,816 chance of winning the lottery with 1 ticket.\n",
      "That means your probability of winning the lottery with 1 ticket is 0.0000072%.\n"
     ]
    }
   ],
   "source": [
    "from fractions import Fraction\n",
    "\n",
    "def multi_ticket_probability(successful_outcomes):\n",
    "    possible_outcomes = combinations(49, 6)\n",
    "    fraction = Fraction(successful_outcomes,int(possible_outcomes))\n",
    "    probability = successful_outcomes/possible_outcomes\n",
    "    percentage = \"{:.7f}\".format(float(probability)*100)\n",
    "    chances = round(possible_outcomes/successful_outcomes)\n",
    "    if successful_outcomes == 1:\n",
    "        print('You have a 1 in ' + '{:,}'.format(int(possible_outcomes)) + \n",
    "              ' chance of winning the lottery with ' + '{:,}'.format(successful_outcomes) + ' ticket.')\n",
    "        print('That means your probability of winning the lottery with ' + str(successful_outcomes) + \n",
    "              ' ticket is ' + str(percentage) + '%.')\n",
    "    elif possible_outcomes > successful_outcomes >= 1:\n",
    "        print('You have a 1 in ' + '{:,}'.format(chances) +\n",
    "              ' chance of winning the lottery with ' + '{:,}'.format(successful_outcomes) + ' different tickets.')\n",
    "        print('That means your probability of winning the lottery with ' + '{:,}'.format(successful_outcomes) + \n",
    "              ' different tickets is ' + str(percentage) + '%.')\n",
    "    elif successful_outcomes == possible_outcomes:\n",
    "        print('You have a 100% chance of winning the lottery with ' + '{:,}'.format(successful_outcomes) + ' different tickets!')\n",
    "    \n",
    "multi_ticket_probability(1)"
   ]
  },
  {
   "cell_type": "code",
   "execution_count": 201,
   "metadata": {},
   "outputs": [
    {
     "name": "stdout",
     "output_type": "stream",
     "text": [
      "You have a 1 in 1,398,382 chance of winning the lottery with 10 different tickets.\n",
      "That means your probability of winning the lottery with 10 different tickets is 0.0000715%.\n"
     ]
    }
   ],
   "source": [
    "multi_ticket_probability(10)"
   ]
  },
  {
   "cell_type": "code",
   "execution_count": 202,
   "metadata": {},
   "outputs": [
    {
     "name": "stdout",
     "output_type": "stream",
     "text": [
      "You have a 1 in 139,838 chance of winning the lottery with 100 different tickets.\n",
      "That means your probability of winning the lottery with 100 different tickets is 0.0007151%.\n"
     ]
    }
   ],
   "source": [
    "multi_ticket_probability(100)"
   ]
  },
  {
   "cell_type": "code",
   "execution_count": 203,
   "metadata": {},
   "outputs": [
    {
     "name": "stdout",
     "output_type": "stream",
     "text": [
      "You have a 1 in 1,398 chance of winning the lottery with 10,000 different tickets.\n",
      "That means your probability of winning the lottery with 10,000 different tickets is 0.0715112%.\n"
     ]
    }
   ],
   "source": [
    "multi_ticket_probability(10000)"
   ]
  },
  {
   "cell_type": "code",
   "execution_count": 204,
   "metadata": {},
   "outputs": [
    {
     "name": "stdout",
     "output_type": "stream",
     "text": [
      "You have a 1 in 14 chance of winning the lottery with 1,000,000 different tickets.\n",
      "That means your probability of winning the lottery with 1,000,000 different tickets is 7.1511238%.\n"
     ]
    }
   ],
   "source": [
    "multi_ticket_probability(1000000)"
   ]
  },
  {
   "cell_type": "code",
   "execution_count": 205,
   "metadata": {},
   "outputs": [
    {
     "name": "stdout",
     "output_type": "stream",
     "text": [
      "You have a 1 in 2 chance of winning the lottery with 6,991,908 different tickets.\n",
      "That means your probability of winning the lottery with 6,991,908 different tickets is 50.0000000%.\n"
     ]
    }
   ],
   "source": [
    "multi_ticket_probability(int(combinations(49, 6)/2))"
   ]
  },
  {
   "cell_type": "code",
   "execution_count": 206,
   "metadata": {},
   "outputs": [
    {
     "name": "stdout",
     "output_type": "stream",
     "text": [
      "You have a 100% chance of winning the lottery with 13,983,816 different tickets!\n"
     ]
    }
   ],
   "source": [
    "multi_ticket_probability(int(combinations(49, 6)))"
   ]
  },
  {
   "cell_type": "markdown",
   "metadata": {},
   "source": [
    "## Estimating the Probability of a Player Winning a Consolation Prize\n",
    "Finally, players can win smaller prizes in the 6/49 Lottery if they match just 2, 3, 4, or 5 of the winning numbers. The next part of the app deals with showing users their chances of winning the smaller, consolation lottery prizes. \n",
    "\n",
    "In this section, I will design a function such that the user may enter the amount of matching numbers they hope to have, and the function will print their chances of winning that particular consolation prize. I will assume the player only has one lottery ticket.\n",
    "\n",
    "Note: For this section I will focus only on the player's numbers matching *exactly* $j$ winning numbers, as opposed to matching *at least* $j$ winning numbers.\n",
    "\n",
    "The probability function in this case is:\n",
    "\n",
    "$${P}(j)=\\frac{_{k}C_{j}\\times_{n-k}C_{k-j}}{_{n}C_{k}}$$\n",
    "\n",
    "where:<br/> \n",
    "&emsp;&emsp;$n$ = number of total lottery numbers (49)<br/>\n",
    "&emsp;&emsp;$k$ = number of chosen lottery numbers (6)<br/>\n",
    "&emsp;&emsp;$j$ = the number of matches that the player hopes their ticket has(2,3,4,or 5)."
   ]
  },
  {
   "cell_type": "code",
   "execution_count": 218,
   "metadata": {},
   "outputs": [
    {
     "name": "stdout",
     "output_type": "stream",
     "text": [
      "You have a 1 in 8 chance of winning a consolation prize by matching 2 lottery numbers.\n",
      "This means that you have a 13.2378029% probability of matching 2 lottery numbers.\n"
     ]
    }
   ],
   "source": [
    "def probability_less_6(matches):\n",
    "    outcomes = combinations(49, 6)\n",
    "    winning_combinations = combinations(6, matches)\n",
    "    successful_outcomes_per_combination = combinations(43, 6 - matches)\n",
    "    successful_outcomes = winning_combinations * successful_outcomes_per_combination\n",
    "    probability = successful_outcomes/outcomes\n",
    "    percentage = \"{:.7f}\".format(float(probability)*100)\n",
    "    chances = round(outcomes/successful_outcomes)\n",
    "    print('''You have a 1 in {cha:,} chance of winning a consolation prize by matching {mat} lottery numbers.\n",
    "This means that you have a {prob}% probability of matching {mat} lottery numbers.'''.format(mat=matches, prob=percentage, cha=chances))\n",
    "\n",
    "probability_less_6(2)"
   ]
  },
  {
   "cell_type": "code",
   "execution_count": 219,
   "metadata": {},
   "outputs": [
    {
     "name": "stdout",
     "output_type": "stream",
     "text": [
      "You have a 1 in 57 chance of winning a consolation prize by matching 3 lottery numbers.\n",
      "This means that you have a 1.7650404% probability of matching 3 lottery numbers.\n"
     ]
    }
   ],
   "source": [
    "probability_less_6(3)"
   ]
  },
  {
   "cell_type": "code",
   "execution_count": 220,
   "metadata": {},
   "outputs": [
    {
     "name": "stdout",
     "output_type": "stream",
     "text": [
      "You have a 1 in 1,032 chance of winning a consolation prize by matching 4 lottery numbers.\n",
      "This means that you have a 0.0968620% probability of matching 4 lottery numbers.\n"
     ]
    }
   ],
   "source": [
    "probability_less_6(4)"
   ]
  },
  {
   "cell_type": "code",
   "execution_count": 221,
   "metadata": {},
   "outputs": [
    {
     "name": "stdout",
     "output_type": "stream",
     "text": [
      "You have a 1 in 54,201 chance of winning a consolation prize by matching 5 lottery numbers.\n",
      "This means that you have a 0.0018450% probability of matching 5 lottery numbers.\n"
     ]
    }
   ],
   "source": [
    "probability_less_6(5)"
   ]
  },
  {
   "cell_type": "markdown",
   "metadata": {},
   "source": [
    "## Conclusion\n",
    "The logical core of the app is preliminarily ready.\n",
    "\n",
    "#### Next Steps Include:\n",
    "<ul><li>Creating a failsafe for value-entry such that users can only enter integers between 1 and 49 inclusive.</li>\n",
    "    <li>Cleaning up the percentages such that larger value percentages do not have so many fractions tailing them.</li>\n",
    "     <li>Creating a section similar to the Consolation Prize section, that calculates the probability of winning with matching <i>at least j amount of numbers</i>.</li></ul>\n"
   ]
  },
  {
   "cell_type": "code",
   "execution_count": null,
   "metadata": {},
   "outputs": [],
   "source": []
  }
 ],
 "metadata": {
  "kernelspec": {
   "display_name": "Python 3",
   "language": "python",
   "name": "python3"
  },
  "language_info": {
   "codemirror_mode": {
    "name": "ipython",
    "version": 3
   },
   "file_extension": ".py",
   "mimetype": "text/x-python",
   "name": "python",
   "nbconvert_exporter": "python",
   "pygments_lexer": "ipython3",
   "version": "3.7.4"
  }
 },
 "nbformat": 4,
 "nbformat_minor": 2
}
